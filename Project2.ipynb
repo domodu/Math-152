{
  "nbformat": 4,
  "nbformat_minor": 0,
  "metadata": {
    "colab": {
      "name": "Project2",
      "provenance": [],
      "collapsed_sections": []
    },
    "kernelspec": {
      "name": "python3",
      "display_name": "Python 3"
    }
  },
  "cells": [
    {
      "cell_type": "code",
      "metadata": {
        "id": "AemLMa1HazGM"
      },
      "source": [
        "import numpy as np \n",
        "import matplotlib.pyplot as plt\n",
        "from PIL import Image"
      ],
      "execution_count": 1,
      "outputs": []
    },
    {
      "cell_type": "code",
      "metadata": {
        "colab": {
          "base_uri": "https://localhost:8080/"
        },
        "id": "yRq6j7DZbgag",
        "outputId": "ad00ce6d-dda7-4083-bced-26395fcba956"
      },
      "source": [
        "a = np.random.choice([0,1],50)\n",
        "b = []\n",
        "for i in a:\n",
        "  if i == 0:\n",
        "    b.append(1)\n",
        "  else:\n",
        "    b.append(2)\n",
        "\n",
        "print(b)"
      ],
      "execution_count": 4,
      "outputs": [
        {
          "output_type": "stream",
          "text": [
            "[2, 2, 1, 2, 1, 2, 1, 1, 1, 1, 2, 1, 2, 1, 2, 2, 2, 2, 1, 1, 1, 1, 2, 2, 2, 1, 2, 2, 1, 2, 2, 1, 1, 1, 1, 2, 1, 1, 2, 2, 2, 1, 2, 1, 1, 1, 2, 1, 1, 2]\n"
          ],
          "name": "stdout"
        }
      ]
    },
    {
      "cell_type": "code",
      "metadata": {
        "id": "mXxqqgw3XMV_"
      },
      "source": [
        "def simplewalk(times):\n",
        "  x = 0 # X position\n",
        "  recordX = [] # record where X at \n",
        "  flip = np.random.choice([0,1],times) # a random list, when result shows 0 then X go left, when result shows 1 then X go right\n",
        "  for i in flip:\n",
        "    if i == 0:\n",
        "      if x != 0: # if X at 0, so X do not move\n",
        "        x = x - 1\n",
        "    else:\n",
        "      x = x + 1\n",
        "    recordX.append(x)\n",
        "  return recordX"
      ],
      "execution_count": 5,
      "outputs": []
    },
    {
      "cell_type": "code",
      "metadata": {
        "colab": {
          "base_uri": "https://localhost:8080/"
        },
        "id": "sMMSWkYQd832",
        "outputId": "6a697a13-375e-4e30-85a7-0cb58c7691d9"
      },
      "source": [
        "simplewalk(20)#test"
      ],
      "execution_count": 9,
      "outputs": [
        {
          "output_type": "execute_result",
          "data": {
            "text/plain": [
              "[1, 0, 0, 1, 2, 3, 2, 1, 2, 1, 0, 0, 1, 2, 3, 2, 1, 2, 1, 2]"
            ]
          },
          "metadata": {
            "tags": []
          },
          "execution_count": 9
        }
      ]
    },
    {
      "cell_type": "code",
      "metadata": {
        "colab": {
          "base_uri": "https://localhost:8080/",
          "height": 350
        },
        "id": "N_u5vYIAeO_i",
        "outputId": "1c818fdd-5b96-432d-fdd5-82493390aa07"
      },
      "source": [
        "plt.figure(figsize=(5,5))\n",
        "plt.plot(range(1,51), simplewalk(50), alpha=0.5, c='blue')\n",
        "plt.grid()\n",
        "plt.xlabel('times')\n",
        "plt.ylabel('position')\n",
        "plt.title('A simple random walk in 1 dimensions')\n",
        "plt.show()"
      ],
      "execution_count": 23,
      "outputs": [
        {
          "output_type": "display_data",
          "data": {
            "image/png": "[encoded data removed]",
            "text/plain": [
              "<Figure size 360x360 with 1 Axes>"
            ]
          },
          "metadata": {
            "tags": [],
            "needs_background": "light"
          }
        }
      ]
    },
    {
      "cell_type": "code",
      "metadata": {
        "colab": {
          "base_uri": "https://localhost:8080/",
          "height": 67
        },
        "id": "VG6xcZEKpR1I",
        "outputId": "787d8ad1-48d8-4485-8497-9891a97e142f"
      },
      "source": [
        "solid = np.zeros((50,50,3), dtype=np.uint8)\n",
        "for x in range(50):\n",
        "    for y in range(50):\n",
        "      for i in simplewalk(50):\n",
        "        if i == 0:\n",
        "          solid[y,x] = [255,255,255] # Red = 255, Green = 255, Blue = 0\n",
        "img = Image.fromarray(solid) # Create an image from the array.\n",
        "display(img)"
      ],
      "execution_count": 25,
      "outputs": [
        {
          "output_type": "display_data",
          "data": {
            "image/png": "[encoded data removed]",
            "text/plain": [
              "<PIL.Image.Image image mode=RGB size=50x50 at 0x7F607022E7D0>"
            ]
          },
          "metadata": {
            "tags": []
          }
        }
      ]
    }
  ]
}
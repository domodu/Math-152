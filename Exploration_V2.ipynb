{
  "nbformat": 4,
  "nbformat_minor": 0,
  "metadata": {
    "colab": {
      "name": "Exploration V2.ipynb",
      "provenance": [],
      "collapsed_sections": []
    },
    "kernelspec": {
      "name": "python3",
      "display_name": "Python 3"
    }
  },
  "cells": [
    {
      "cell_type": "code",
      "metadata": {
        "id": "Mx64ewjkSuFf",
        "colab": {
          "base_uri": "https://localhost:8080/",
          "height": 321
        },
        "outputId": "d571e8bc-5480-4163-f440-e7326d039420"
      },
      "source": [
        "#原版\n",
        "def C_c_V2(x): # version 2 for Positive number\n",
        " counter = 0\n",
        " a = []\n",
        " while (x > 0) and (counter < 2):\n",
        "   if x % 2 == 0:\n",
        "     x = x // 2\n",
        "     if a.count(x) > 1: # test where the cycle begins\n",
        "       counter += 1\n",
        "   elif x % 2 == 1:\n",
        "     x = 3 * x + 1\n",
        "   a.append(x)#new tester\n",
        " return a  \n",
        "\n",
        "def σ(x):#dropping time\n",
        "  term = 0\n",
        "  n = x\n",
        "  while (x >= n):\n",
        "    if x % 2 == 0:\n",
        "      x = x // 2\n",
        "    elif x % 2 == 1:\n",
        "      x = 3 * x + 1\n",
        "    term += 1\n",
        "  print(term,\"term is smaller than the starting\")\n",
        "\n",
        "def C_c_V3(x): # version 3 for Positive number\n",
        " a = []\n",
        " while (x > 0):\n",
        "   if x % 2 == 0:\n",
        "     x = x // 2\n",
        "     if a.count(x) > 0: # test where the cycle begins\n",
        "       return a \n",
        "   elif x % 2 == 1:\n",
        "     x = 3 * x + 1\n",
        "   a.append(x)#new tester \n",
        "\n",
        "def C_c_V4(x):\n",
        "  a = []\n",
        "  if (x == 0):\n",
        "    raise TypeError(\"The number you input could not be ZERO(0)\")\n",
        "  while (a.count(x) <= 1):\n",
        "    if (x % 2 == 0):\n",
        "      x = x // 2  \n",
        "    else:\n",
        "      x = 3 * x + 1\n",
        "    a.append(x)\n",
        "  return a\n",
        "C_c_V4(0)   "
      ],
      "execution_count": 19,
      "outputs": [
        {
          "output_type": "error",
          "ename": "TypeError",
          "evalue": "ignored",
          "traceback": [
            "\u001b[0;31m---------------------------------------------------------------------------\u001b[0m",
            "\u001b[0;31mTypeError\u001b[0m                                 Traceback (most recent call last)",
            "\u001b[0;32m<ipython-input-19-21c32af14aaf>\u001b[0m in \u001b[0;36m<module>\u001b[0;34m()\u001b[0m\n\u001b[1;32m     46\u001b[0m     \u001b[0ma\u001b[0m\u001b[0;34m.\u001b[0m\u001b[0mappend\u001b[0m\u001b[0;34m(\u001b[0m\u001b[0mx\u001b[0m\u001b[0;34m)\u001b[0m\u001b[0;34m\u001b[0m\u001b[0;34m\u001b[0m\u001b[0m\n\u001b[1;32m     47\u001b[0m   \u001b[0;32mreturn\u001b[0m \u001b[0ma\u001b[0m\u001b[0;34m\u001b[0m\u001b[0;34m\u001b[0m\u001b[0m\n\u001b[0;32m---> 48\u001b[0;31m \u001b[0mC_c_V4\u001b[0m\u001b[0;34m(\u001b[0m\u001b[0;36m0\u001b[0m\u001b[0;34m)\u001b[0m\u001b[0;34m\u001b[0m\u001b[0;34m\u001b[0m\u001b[0m\n\u001b[0m",
            "\u001b[0;32m<ipython-input-19-21c32af14aaf>\u001b[0m in \u001b[0;36mC_c_V4\u001b[0;34m(x)\u001b[0m\n\u001b[1;32m     38\u001b[0m   \u001b[0ma\u001b[0m \u001b[0;34m=\u001b[0m \u001b[0;34m[\u001b[0m\u001b[0;34m]\u001b[0m\u001b[0;34m\u001b[0m\u001b[0;34m\u001b[0m\u001b[0m\n\u001b[1;32m     39\u001b[0m   \u001b[0;32mif\u001b[0m \u001b[0;34m(\u001b[0m\u001b[0mx\u001b[0m \u001b[0;34m==\u001b[0m \u001b[0;36m0\u001b[0m\u001b[0;34m)\u001b[0m\u001b[0;34m:\u001b[0m\u001b[0;34m\u001b[0m\u001b[0;34m\u001b[0m\u001b[0m\n\u001b[0;32m---> 40\u001b[0;31m     \u001b[0;32mraise\u001b[0m \u001b[0mTypeError\u001b[0m\u001b[0;34m(\u001b[0m\u001b[0;34m\"The number you input could not be ZERO(0)\"\u001b[0m\u001b[0;34m)\u001b[0m\u001b[0;34m\u001b[0m\u001b[0;34m\u001b[0m\u001b[0m\n\u001b[0m\u001b[1;32m     41\u001b[0m   \u001b[0;32mwhile\u001b[0m \u001b[0;34m(\u001b[0m\u001b[0ma\u001b[0m\u001b[0;34m.\u001b[0m\u001b[0mcount\u001b[0m\u001b[0;34m(\u001b[0m\u001b[0mx\u001b[0m\u001b[0;34m)\u001b[0m \u001b[0;34m<=\u001b[0m \u001b[0;36m1\u001b[0m\u001b[0;34m)\u001b[0m\u001b[0;34m:\u001b[0m\u001b[0;34m\u001b[0m\u001b[0;34m\u001b[0m\u001b[0m\n\u001b[1;32m     42\u001b[0m     \u001b[0;32mif\u001b[0m \u001b[0;34m(\u001b[0m\u001b[0mx\u001b[0m \u001b[0;34m%\u001b[0m \u001b[0;36m2\u001b[0m \u001b[0;34m==\u001b[0m \u001b[0;36m0\u001b[0m\u001b[0;34m)\u001b[0m\u001b[0;34m:\u001b[0m\u001b[0;34m\u001b[0m\u001b[0;34m\u001b[0m\u001b[0m\n",
            "\u001b[0;31mTypeError\u001b[0m: The number you input could not be ZERO(0)"
          ]
        }
      ]
    },
    {
      "cell_type": "code",
      "metadata": {
        "colab": {
          "base_uri": "https://localhost:8080/"
        },
        "id": "8Ab4lj-T67UL",
        "outputId": "bbb17cef-a56f-44e8-95e3-7f029fbf8b15"
      },
      "source": [
        "def collatz_conjec(x): #This is a code I wrote for the negative numbers         \n",
        "  counter = []\n",
        "  while (x <= -1):        # The output shows 1000 numbers so we can see the repeating cycle    \n",
        "    if x % 2 == 0:         # for collatz_conjec(-5, -7, -9,-10,-13,-14,-18,-19,-20,-26,-27,-28,-4000) repeat -5,-14,-7,-20,-10      \n",
        "      x = x // 2 \n",
        "      if (counter.count(x) > 0):\n",
        "        return counter           # for collatz_conjec(-2,-3,-4,-6,-8,-11,-12,-15,-22,-24,-29,-30,-34567890): repeat with -2, -1    \n",
        "    elif x % 2 == 1:       # for collatz_conjec(-17,-21,-23,-25,-345678): repeat with -164,-82,-41,-122,-61,-182,-91,-272,-136,-68,-34,-17,-50,-25,-47,-37,-110,-55\n",
        "      x = 3 * x + 1            # conclusion: Through manually printing every negative number from -1 to -34567890, the negative number produces three different cases of repetition.\n",
        "    counter.append(x)\n",
        "     \n",
        "collatz_conjec(-999)       "
      ],
      "execution_count": 18,
      "outputs": [
        {
          "output_type": "execute_result",
          "data": {
            "text/plain": [
              "[-2996,\n",
              " -1498,\n",
              " -749,\n",
              " -2246,\n",
              " -1123,\n",
              " -3368,\n",
              " -1684,\n",
              " -842,\n",
              " -421,\n",
              " -1262,\n",
              " -631,\n",
              " -1892,\n",
              " -946,\n",
              " -473,\n",
              " -1418,\n",
              " -709,\n",
              " -2126,\n",
              " -1063,\n",
              " -3188,\n",
              " -1594,\n",
              " -797,\n",
              " -2390,\n",
              " -1195,\n",
              " -3584,\n",
              " -1792,\n",
              " -896,\n",
              " -448,\n",
              " -224,\n",
              " -112,\n",
              " -56,\n",
              " -28,\n",
              " -14,\n",
              " -7,\n",
              " -20,\n",
              " -10,\n",
              " -5,\n",
              " -14]"
            ]
          },
          "metadata": {
            "tags": []
          },
          "execution_count": 18
        }
      ]
    }
  ]
}